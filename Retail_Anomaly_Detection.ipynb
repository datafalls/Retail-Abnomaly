{
 "cells": [
  {
   "attachments": {},
   "cell_type": "markdown",
   "metadata": {},
   "source": [
    "PROJECT OF RETIAL ANOMALY DETECTION\n",
    "\n",
    "At first, we import necessary libraries and load the data from retail1.csv "
   ]
  },
  {
   "cell_type": "code",
   "execution_count": 1,
   "metadata": {},
   "outputs": [
    {
     "name": "stderr",
     "output_type": "stream",
     "text": [
      "/Users/lientran/opt/anaconda3/lib/python3.9/site-packages/scipy/__init__.py:146: UserWarning: A NumPy version >=1.16.5 and <1.23.0 is required for this version of SciPy (detected version 1.24.3\n",
      "  warnings.warn(f\"A NumPy version >={np_minversion} and <{np_maxversion}\"\n"
     ]
    }
   ],
   "source": [
    "\n",
    "import pandas as pd\n",
    "import numpy as np\n",
    "import matplotlib.pyplot as plt\n",
    "import seaborn as sns\n",
    "from sklearn.ensemble import IsolationForest\n",
    "import warnings\n",
    "warnings.filterwarnings('ignore')\n"
   ]
  },
  {
   "cell_type": "code",
   "execution_count": 2,
   "metadata": {},
   "outputs": [
    {
     "name": "stdout",
     "output_type": "stream",
     "text": [
      "       Unnamed: 0  DocumentID        Date   SKU        Price     Discount  \\\n",
      "0               0         716  2019-09-23  1039   381.780000    67.372540   \n",
      "1               1         716  2019-09-23   853   593.220000     0.000340   \n",
      "2               2         716  2019-09-23   862   423.730000    -0.001190   \n",
      "3               3         716  2019-09-23   868   201.700000    35.588140   \n",
      "4               4         716  2019-09-23  2313   345.760000    61.019660   \n",
      "...           ...         ...         ...   ...          ...          ...   \n",
      "33351       33351       13315  2022-11-09  1849  5957.627119  1072.372881   \n",
      "33352       33352       13316  2022-11-09    30  1271.186441   228.813559   \n",
      "33353       33353       13317  2022-11-09  2066  1355.932203   244.067797   \n",
      "33354       33354       13318  2022-11-09  1586  2334.745763   420.254237   \n",
      "33355       33355       13319  2022-11-09  1408  1368.644068   246.355932   \n",
      "\n",
      "       Customer  Quantity  \n",
      "0             1       1.0  \n",
      "1             1       1.0  \n",
      "2             1       1.0  \n",
      "3             1       1.0  \n",
      "4             1       1.0  \n",
      "...         ...       ...  \n",
      "33351       239       4.0  \n",
      "33352       477       2.0  \n",
      "33353       370       1.0  \n",
      "33354       356       2.0  \n",
      "33355       441       2.0  \n",
      "\n",
      "[33356 rows x 8 columns]\n"
     ]
    }
   ],
   "source": [
    "\n",
    "df= pd.read_csv(r'/Users/lientran/Documents/Machine_Learning _Project/Machine-learning/Retail Anomaly Detection/retail1.csv')\n",
    "\n",
    "\n",
    "# df= pd.read_csv(r'C:\\Users\\bichl\\Documents\\Machine_Learning _Project\\Machine-learning\\Retail Anomaly Detection\\retail1.csv')\n",
    "#C:\\Users\\bichl\\Documents\\Machine_Learning _Project\\data\n",
    "print(df)"
   ]
  },
  {
   "cell_type": "code",
   "execution_count": 3,
   "metadata": {},
   "outputs": [
    {
     "name": "stdout",
     "output_type": "stream",
     "text": [
      "Index(['Unnamed: 0', 'DocumentID', 'Date', 'SKU', 'Price', 'Discount',\n",
      "       'Customer', 'Quantity'],\n",
      "      dtype='object')\n"
     ]
    },
    {
     "data": {
      "text/html": [
       "<div>\n",
       "<style scoped>\n",
       "    .dataframe tbody tr th:only-of-type {\n",
       "        vertical-align: middle;\n",
       "    }\n",
       "\n",
       "    .dataframe tbody tr th {\n",
       "        vertical-align: top;\n",
       "    }\n",
       "\n",
       "    .dataframe thead th {\n",
       "        text-align: right;\n",
       "    }\n",
       "</style>\n",
       "<table border=\"1\" class=\"dataframe\">\n",
       "  <thead>\n",
       "    <tr style=\"text-align: right;\">\n",
       "      <th></th>\n",
       "      <th>Unnamed: 0</th>\n",
       "      <th>DocumentID</th>\n",
       "      <th>SKU</th>\n",
       "      <th>Price</th>\n",
       "      <th>Discount</th>\n",
       "      <th>Customer</th>\n",
       "      <th>Quantity</th>\n",
       "    </tr>\n",
       "  </thead>\n",
       "  <tbody>\n",
       "    <tr>\n",
       "      <th>count</th>\n",
       "      <td>33356.000000</td>\n",
       "      <td>33356.000000</td>\n",
       "      <td>33356.000000</td>\n",
       "      <td>33356.000000</td>\n",
       "      <td>33356.000000</td>\n",
       "      <td>33356.000000</td>\n",
       "      <td>33356.000000</td>\n",
       "    </tr>\n",
       "    <tr>\n",
       "      <th>mean</th>\n",
       "      <td>16677.500000</td>\n",
       "      <td>8227.577227</td>\n",
       "      <td>1241.273174</td>\n",
       "      <td>2915.716875</td>\n",
       "      <td>591.249968</td>\n",
       "      <td>307.968581</td>\n",
       "      <td>5.760695</td>\n",
       "    </tr>\n",
       "    <tr>\n",
       "      <th>std</th>\n",
       "      <td>9629.192126</td>\n",
       "      <td>4028.047727</td>\n",
       "      <td>893.872164</td>\n",
       "      <td>10285.512325</td>\n",
       "      <td>3508.983569</td>\n",
       "      <td>162.675166</td>\n",
       "      <td>19.550559</td>\n",
       "    </tr>\n",
       "    <tr>\n",
       "      <th>min</th>\n",
       "      <td>0.000000</td>\n",
       "      <td>0.000000</td>\n",
       "      <td>0.000000</td>\n",
       "      <td>0.000000</td>\n",
       "      <td>-0.004920</td>\n",
       "      <td>0.000000</td>\n",
       "      <td>0.000000</td>\n",
       "    </tr>\n",
       "    <tr>\n",
       "      <th>25%</th>\n",
       "      <td>8338.750000</td>\n",
       "      <td>5399.750000</td>\n",
       "      <td>503.000000</td>\n",
       "      <td>661.016949</td>\n",
       "      <td>95.674576</td>\n",
       "      <td>179.000000</td>\n",
       "      <td>2.000000</td>\n",
       "    </tr>\n",
       "    <tr>\n",
       "      <th>50%</th>\n",
       "      <td>16677.500000</td>\n",
       "      <td>8733.000000</td>\n",
       "      <td>1008.000000</td>\n",
       "      <td>1203.389830</td>\n",
       "      <td>195.254237</td>\n",
       "      <td>286.000000</td>\n",
       "      <td>4.000000</td>\n",
       "    </tr>\n",
       "    <tr>\n",
       "      <th>75%</th>\n",
       "      <td>25016.250000</td>\n",
       "      <td>10857.000000</td>\n",
       "      <td>2078.250000</td>\n",
       "      <td>2572.194915</td>\n",
       "      <td>423.489661</td>\n",
       "      <td>427.000000</td>\n",
       "      <td>4.000000</td>\n",
       "    </tr>\n",
       "    <tr>\n",
       "      <th>max</th>\n",
       "      <td>33355.000000</td>\n",
       "      <td>15751.000000</td>\n",
       "      <td>2904.000000</td>\n",
       "      <td>522767.340000</td>\n",
       "      <td>240396.660000</td>\n",
       "      <td>605.000000</td>\n",
       "      <td>1246.000000</td>\n",
       "    </tr>\n",
       "  </tbody>\n",
       "</table>\n",
       "</div>"
      ],
      "text/plain": [
       "         Unnamed: 0    DocumentID           SKU          Price       Discount  \\\n",
       "count  33356.000000  33356.000000  33356.000000   33356.000000   33356.000000   \n",
       "mean   16677.500000   8227.577227   1241.273174    2915.716875     591.249968   \n",
       "std     9629.192126   4028.047727    893.872164   10285.512325    3508.983569   \n",
       "min        0.000000      0.000000      0.000000       0.000000      -0.004920   \n",
       "25%     8338.750000   5399.750000    503.000000     661.016949      95.674576   \n",
       "50%    16677.500000   8733.000000   1008.000000    1203.389830     195.254237   \n",
       "75%    25016.250000  10857.000000   2078.250000    2572.194915     423.489661   \n",
       "max    33355.000000  15751.000000   2904.000000  522767.340000  240396.660000   \n",
       "\n",
       "           Customer      Quantity  \n",
       "count  33356.000000  33356.000000  \n",
       "mean     307.968581      5.760695  \n",
       "std      162.675166     19.550559  \n",
       "min        0.000000      0.000000  \n",
       "25%      179.000000      2.000000  \n",
       "50%      286.000000      4.000000  \n",
       "75%      427.000000      4.000000  \n",
       "max      605.000000   1246.000000  "
      ]
     },
     "execution_count": 3,
     "metadata": {},
     "output_type": "execute_result"
    }
   ],
   "source": [
    "print(df.columns)\n",
    "df.shape\n",
    "df.dtypes\n",
    "df.describe()"
   ]
  },
  {
   "cell_type": "code",
   "execution_count": 4,
   "metadata": {},
   "outputs": [
    {
     "data": {
      "image/png": "[encoded data removed]",
      "text/plain": [
       "<Figure size 432x288 with 1 Axes>"
      ]
     },
     "metadata": {
      "needs_background": "light"
     },
     "output_type": "display_data"
    }
   ],
   "source": [
    "\n",
    "# creating a bar plot with unique value counts for each column in the dataframe\n",
    "\n",
    "plot1 = df.nunique().plot.bar(color=\"magenta\")\n",
    "plot1.set_xlabel(\"x\",rotation=90)\n",
    "plot1.set_ylabel(\"y\",rotation=90)\n",
    "plot1.invert_xaxis()"
   ]
  },
  {
   "cell_type": "code",
   "execution_count": 5,
   "metadata": {},
   "outputs": [
    {
     "data": {
      "text/html": [
       "<div>\n",
       "<style scoped>\n",
       "    .dataframe tbody tr th:only-of-type {\n",
       "        vertical-align: middle;\n",
       "    }\n",
       "\n",
       "    .dataframe tbody tr th {\n",
       "        vertical-align: top;\n",
       "    }\n",
       "\n",
       "    .dataframe thead th {\n",
       "        text-align: right;\n",
       "    }\n",
       "</style>\n",
       "<table border=\"1\" class=\"dataframe\">\n",
       "  <thead>\n",
       "    <tr style=\"text-align: right;\">\n",
       "      <th></th>\n",
       "      <th>Unnamed: 0</th>\n",
       "      <th>DocumentID</th>\n",
       "      <th>Date</th>\n",
       "      <th>SKU</th>\n",
       "      <th>Price</th>\n",
       "      <th>Discount</th>\n",
       "      <th>Customer</th>\n",
       "      <th>Quantity</th>\n",
       "    </tr>\n",
       "  </thead>\n",
       "  <tbody>\n",
       "    <tr>\n",
       "      <th>29772</th>\n",
       "      <td>29772</td>\n",
       "      <td>14458</td>\n",
       "      <td>2022-07-27</td>\n",
       "      <td>978</td>\n",
       "      <td>522767.34</td>\n",
       "      <td>240396.66</td>\n",
       "      <td>418</td>\n",
       "      <td>612.0</td>\n",
       "    </tr>\n",
       "    <tr>\n",
       "      <th>31595</th>\n",
       "      <td>31595</td>\n",
       "      <td>14974</td>\n",
       "      <td>2022-10-08</td>\n",
       "      <td>2817</td>\n",
       "      <td>508240.00</td>\n",
       "      <td>0.00</td>\n",
       "      <td>418</td>\n",
       "      <td>1.0</td>\n",
       "    </tr>\n",
       "  </tbody>\n",
       "</table>\n",
       "</div>"
      ],
      "text/plain": [
       "       Unnamed: 0  DocumentID        Date   SKU      Price   Discount  \\\n",
       "29772       29772       14458  2022-07-27   978  522767.34  240396.66   \n",
       "31595       31595       14974  2022-10-08  2817  508240.00       0.00   \n",
       "\n",
       "       Customer  Quantity  \n",
       "29772       418     612.0  \n",
       "31595       418       1.0  "
      ]
     },
     "execution_count": 5,
     "metadata": {},
     "output_type": "execute_result"
    }
   ],
   "source": [
    "\n",
    "# identify and extract rows with the highest 'Price' values from the original DataFrame df and stores them in the df_anomaly DataFrame for further analysis or inspection.\n",
    "\n",
    "df.sort_values('Price',ascending=False).head(5)\n",
    "\n",
    "df_anomaly = df.sort_values('Price', ascending = False).head(2)\n",
    "df_anomaly.head()"
   ]
  },
  {
   "cell_type": "code",
   "execution_count": 6,
   "metadata": {},
   "outputs": [
    {
     "data": {
      "text/html": [
       "<div>\n",
       "<style scoped>\n",
       "    .dataframe tbody tr th:only-of-type {\n",
       "        vertical-align: middle;\n",
       "    }\n",
       "\n",
       "    .dataframe tbody tr th {\n",
       "        vertical-align: top;\n",
       "    }\n",
       "\n",
       "    .dataframe thead th {\n",
       "        text-align: right;\n",
       "    }\n",
       "</style>\n",
       "<table border=\"1\" class=\"dataframe\">\n",
       "  <thead>\n",
       "    <tr style=\"text-align: right;\">\n",
       "      <th></th>\n",
       "      <th>Unnamed: 0</th>\n",
       "      <th>DocumentID</th>\n",
       "      <th>Date</th>\n",
       "      <th>SKU</th>\n",
       "      <th>Price</th>\n",
       "      <th>Discount</th>\n",
       "      <th>Customer</th>\n",
       "      <th>Quantity</th>\n",
       "    </tr>\n",
       "  </thead>\n",
       "  <tbody>\n",
       "    <tr>\n",
       "      <th>27544</th>\n",
       "      <td>27544</td>\n",
       "      <td>15211</td>\n",
       "      <td>2022-05-07</td>\n",
       "      <td>2086</td>\n",
       "      <td>368644.070000</td>\n",
       "      <td>0.000000</td>\n",
       "      <td>433</td>\n",
       "      <td>60.0</td>\n",
       "    </tr>\n",
       "    <tr>\n",
       "      <th>31261</th>\n",
       "      <td>31261</td>\n",
       "      <td>14998</td>\n",
       "      <td>2022-10-11</td>\n",
       "      <td>2817</td>\n",
       "      <td>334161.000000</td>\n",
       "      <td>0.000000</td>\n",
       "      <td>418</td>\n",
       "      <td>1.0</td>\n",
       "    </tr>\n",
       "    <tr>\n",
       "      <th>15308</th>\n",
       "      <td>15308</td>\n",
       "      <td>0</td>\n",
       "      <td>2020-11-17</td>\n",
       "      <td>541</td>\n",
       "      <td>332574.460000</td>\n",
       "      <td>-0.003959</td>\n",
       "      <td>506</td>\n",
       "      <td>2.0</td>\n",
       "    </tr>\n",
       "    <tr>\n",
       "      <th>29827</th>\n",
       "      <td>29827</td>\n",
       "      <td>7218</td>\n",
       "      <td>2022-07-07</td>\n",
       "      <td>611</td>\n",
       "      <td>332559.020000</td>\n",
       "      <td>143715.980000</td>\n",
       "      <td>414</td>\n",
       "      <td>500.0</td>\n",
       "    </tr>\n",
       "    <tr>\n",
       "      <th>14003</th>\n",
       "      <td>14003</td>\n",
       "      <td>0</td>\n",
       "      <td>2020-11-16</td>\n",
       "      <td>541</td>\n",
       "      <td>332383.010000</td>\n",
       "      <td>0.000000</td>\n",
       "      <td>506</td>\n",
       "      <td>2.0</td>\n",
       "    </tr>\n",
       "    <tr>\n",
       "      <th>29828</th>\n",
       "      <td>29828</td>\n",
       "      <td>7218</td>\n",
       "      <td>2022-07-07</td>\n",
       "      <td>611</td>\n",
       "      <td>331893.899999</td>\n",
       "      <td>143428.550001</td>\n",
       "      <td>414</td>\n",
       "      <td>499.0</td>\n",
       "    </tr>\n",
       "    <tr>\n",
       "      <th>29819</th>\n",
       "      <td>29819</td>\n",
       "      <td>7217</td>\n",
       "      <td>2022-07-28</td>\n",
       "      <td>614</td>\n",
       "      <td>324878.270000</td>\n",
       "      <td>140396.730000</td>\n",
       "      <td>414</td>\n",
       "      <td>500.0</td>\n",
       "    </tr>\n",
       "    <tr>\n",
       "      <th>29818</th>\n",
       "      <td>29818</td>\n",
       "      <td>7217</td>\n",
       "      <td>2022-07-28</td>\n",
       "      <td>614</td>\n",
       "      <td>324878.270000</td>\n",
       "      <td>140396.730000</td>\n",
       "      <td>414</td>\n",
       "      <td>500.0</td>\n",
       "    </tr>\n",
       "    <tr>\n",
       "      <th>32329</th>\n",
       "      <td>32329</td>\n",
       "      <td>14560</td>\n",
       "      <td>2022-08-25</td>\n",
       "      <td>1443</td>\n",
       "      <td>283302.800000</td>\n",
       "      <td>139537.200000</td>\n",
       "      <td>418</td>\n",
       "      <td>310.0</td>\n",
       "    </tr>\n",
       "    <tr>\n",
       "      <th>29770</th>\n",
       "      <td>29770</td>\n",
       "      <td>14458</td>\n",
       "      <td>2022-07-27</td>\n",
       "      <td>1456</td>\n",
       "      <td>279495.900000</td>\n",
       "      <td>178694.100000</td>\n",
       "      <td>418</td>\n",
       "      <td>270.0</td>\n",
       "    </tr>\n",
       "  </tbody>\n",
       "</table>\n",
       "</div>"
      ],
      "text/plain": [
       "       Unnamed: 0  DocumentID        Date   SKU          Price       Discount  \\\n",
       "27544       27544       15211  2022-05-07  2086  368644.070000       0.000000   \n",
       "31261       31261       14998  2022-10-11  2817  334161.000000       0.000000   \n",
       "15308       15308           0  2020-11-17   541  332574.460000      -0.003959   \n",
       "29827       29827        7218  2022-07-07   611  332559.020000  143715.980000   \n",
       "14003       14003           0  2020-11-16   541  332383.010000       0.000000   \n",
       "29828       29828        7218  2022-07-07   611  331893.899999  143428.550001   \n",
       "29819       29819        7217  2022-07-28   614  324878.270000  140396.730000   \n",
       "29818       29818        7217  2022-07-28   614  324878.270000  140396.730000   \n",
       "32329       32329       14560  2022-08-25  1443  283302.800000  139537.200000   \n",
       "29770       29770       14458  2022-07-27  1456  279495.900000  178694.100000   \n",
       "\n",
       "       Customer  Quantity  \n",
       "27544       433      60.0  \n",
       "31261       418       1.0  \n",
       "15308       506       2.0  \n",
       "29827       414     500.0  \n",
       "14003       506       2.0  \n",
       "29828       414     499.0  \n",
       "29819       414     500.0  \n",
       "29818       414     500.0  \n",
       "32329       418     310.0  \n",
       "29770       418     270.0  "
      ]
     },
     "execution_count": 6,
     "metadata": {},
     "output_type": "execute_result"
    }
   ],
   "source": [
    "# sorting the DataFrame df by the 'Price' column in descending order and selecting the top 2 rows with the highest prices, then retrieving the index values of these top 2 rows and converts them into a list.\n",
    "\n",
    "list(df.sort_values('Price', ascending = False).head(2).index)\n",
    "\n",
    "# removing the 2 rows with the highest prices from the DataFrame df\n",
    "\n",
    "df = df.drop(list(df.sort_values('Price', ascending = False).head(2).index))\n",
    "df.sort_values('Price', ascending = False).head(10)"
   ]
  },
  {
   "cell_type": "code",
   "execution_count": 7,
   "metadata": {},
   "outputs": [
    {
     "data": {
      "image/png": "[encoded data removed]",
      "text/plain": [
       "<Figure size 432x288 with 1 Axes>"
      ]
     },
     "metadata": {
      "needs_background": "light"
     },
     "output_type": "display_data"
    }
   ],
   "source": [
    "# creating a distribution plot (histogram) of the 'Price' column in the DataFrame df using the seaborn library. The bars in the plot represent the distribution of prices, and they are colored cyan.\n",
    "\n",
    "plot2 = sns.distplot(df['Price'],color=\"cyan\")\n",
    "plt.title(\"Distribution of Price\")\n",
    "sns.despine() # removing the top and right spines (lines) from the plot"
   ]
  },
  {
   "cell_type": "code",
   "execution_count": 8,
   "metadata": {},
   "outputs": [],
   "source": [
    "\n",
    "# Creating an instance of the IsolationForest class from scikit-learn and specifies the number of decision trees (estimators) to be used in the isolation forest. Using 100 decision trees.\n",
    "isolation_forest = IsolationForest(n_estimators=100)\n",
    "\n",
    "# Fits (trains) the isolation forest model on the values of the 'Price' column from DataFrame df. The reshape(-1, 1) operation is used to ensure that the input data is in the correct shape for the algorithm, which expects a two-dimensional array.\n",
    "isolation_forest.fit(df['Price'].values.reshape(-1, 1))\n",
    "\n",
    "# creating a range of values for the 'Price' column that spans from the minimum price value in the DataFrame to the maximum price value. np.linspace is used to generate equally spaced values, and reshape(-1,1) is applied to make it a two-dimensional array.\n",
    "xx = np.linspace(df['Price'].min(), df['Price'].max(), len(df)).reshape(-1,1)\n",
    "\n",
    "# Calculates the anomaly scores for each value in the xx range using the decision function of the trained isolation forest model. The anomaly score quantifies how anomalous each data point is. Higher scores indicate greater anomaly.\n",
    "anomaly_score = isolation_forest.decision_function(xx)\n",
    "\n",
    "# Predicting whether each data point in the xx range is an outlier (anomaly) or not. The predict method returns -1 for outliers and 1 for inliers (non-outliers).\n",
    "outlier = isolation_forest.predict(xx)\n",
    "\n",
    "\n"
   ]
  },
  {
   "cell_type": "code",
   "execution_count": 9,
   "metadata": {},
   "outputs": [
    {
     "data": {
      "image/png": "[encoded data removed]",
      "text/plain": [
       "<Figure size 720x288 with 1 Axes>"
      ]
     },
     "metadata": {
      "needs_background": "light"
     },
     "output_type": "display_data"
    }
   ],
   "source": [
    "\n",
    "# Initializing a new figure for the plot with a specified figsize of 10 inches in width and 4 inches in height\n",
    "plt.figure(figsize=(10,4))\n",
    "\n",
    "# Ploting the anomaly scores calculated earlier (anomaly_score) against the values of 'Price' in the xx range. It labels the line on the plot as \"anomaly score.\"\n",
    "plt.plot(xx, anomaly_score, label='anomaly score')\n",
    "\n",
    "# filling the region between the minimum and maximum anomaly scores with a red color for data points that have been predicted as outliers (outlier==-1). This helps visually distinguish the region containing potential outliers.\n",
    "plt.fill_between(xx.T[0], np.min(anomaly_score), np.max(anomaly_score),\n",
    "                 where=outlier==-1, color='r',\n",
    "                 alpha=.4, label='outlier region')\n",
    "\n",
    "\n",
    "# Adding a legend to the plot to label the two components: \"anomaly score\" and \"outlier region.\"\n",
    "plt.legend()\n",
    "\n",
    "# Set the label for the y-axis as \"anomaly score.\"\n",
    "plt.ylabel('anomaly score')\n",
    "\n",
    "# set the label for the x-axis as \"Sales.\"\n",
    "plt.xlabel('Sales')\n",
    "\n",
    "# Displays the plot.\n",
    "plt.show();"
   ]
  },
  {
   "cell_type": "code",
   "execution_count": 10,
   "metadata": {},
   "outputs": [
    {
     "data": {
      "text/html": [
       "<div>\n",
       "<style scoped>\n",
       "    .dataframe tbody tr th:only-of-type {\n",
       "        vertical-align: middle;\n",
       "    }\n",
       "\n",
       "    .dataframe tbody tr th {\n",
       "        vertical-align: top;\n",
       "    }\n",
       "\n",
       "    .dataframe thead th {\n",
       "        text-align: right;\n",
       "    }\n",
       "</style>\n",
       "<table border=\"1\" class=\"dataframe\">\n",
       "  <thead>\n",
       "    <tr style=\"text-align: right;\">\n",
       "      <th></th>\n",
       "      <th>Unnamed: 0</th>\n",
       "      <th>DocumentID</th>\n",
       "      <th>Date</th>\n",
       "      <th>SKU</th>\n",
       "      <th>Price</th>\n",
       "      <th>Discount</th>\n",
       "      <th>Customer</th>\n",
       "      <th>Quantity</th>\n",
       "    </tr>\n",
       "  </thead>\n",
       "  <tbody>\n",
       "    <tr>\n",
       "      <th>27544</th>\n",
       "      <td>27544</td>\n",
       "      <td>15211</td>\n",
       "      <td>2022-05-07</td>\n",
       "      <td>2086</td>\n",
       "      <td>368644.07</td>\n",
       "      <td>0.0</td>\n",
       "      <td>433</td>\n",
       "      <td>60.0</td>\n",
       "    </tr>\n",
       "    <tr>\n",
       "      <th>31261</th>\n",
       "      <td>31261</td>\n",
       "      <td>14998</td>\n",
       "      <td>2022-10-11</td>\n",
       "      <td>2817</td>\n",
       "      <td>334161.00</td>\n",
       "      <td>0.0</td>\n",
       "      <td>418</td>\n",
       "      <td>1.0</td>\n",
       "    </tr>\n",
       "  </tbody>\n",
       "</table>\n",
       "</div>"
      ],
      "text/plain": [
       "       Unnamed: 0  DocumentID        Date   SKU      Price  Discount  \\\n",
       "27544       27544       15211  2022-05-07  2086  368644.07       0.0   \n",
       "31261       31261       14998  2022-10-11  2817  334161.00       0.0   \n",
       "\n",
       "       Customer  Quantity  \n",
       "27544       433      60.0  \n",
       "31261       418       1.0  "
      ]
     },
     "execution_count": 10,
     "metadata": {},
     "output_type": "execute_result"
    }
   ],
   "source": [
    "\n",
    "# Sorts the original DataFrame df by the 'Price' column in descending order. \n",
    "\n",
    "df_anomaly = df.sort_values('Price', ascending = False).head(2)\n",
    "\n",
    "# These are the 2 rows with the highest 'Price' values.\n",
    "\n",
    "df_anomaly.head()"
   ]
  },
  {
   "cell_type": "code",
   "execution_count": 11,
   "metadata": {},
   "outputs": [
    {
     "data": {
      "text/plain": [
       "IsolationForest()"
      ]
     },
     "execution_count": 11,
     "metadata": {},
     "output_type": "execute_result"
    }
   ],
   "source": [
    "# Adding a new column to DataFrame df that stores the anomaly scores for each row, indicating how anomalous each data point is based on the Isolation Forest model. The higher the anomaly score, the more likely a data point is considered an outlier or anomaly.\n",
    "\n",
    "df['AnomalyScore'] = anomaly_score\n",
    "\n",
    "# Sorts the DataFrame df by the 'AnomalyScore' column in descending order and selects the top rows with the highest anomaly scores. The default number of rows returned by .head() is 5, so this line will show the top 5 rows with the highest anomaly scores.\n",
    "df.sort_values('AnomalyScore',ascending = False).head()\n",
    "\n",
    "#  concatenates the rows with the lowest anomaly scores from the sorted DataFrame df (in ascending order) with the existing df_anomaly DataFrame. It effectively extends the df_anomaly DataFrame with additional rows representing potential anomalies with low anomaly scores. The number of rows added is limited to the top 10 rows with the lowest anomaly scores.\n",
    "\n",
    "df_anomaly = pd.concat([df_anomaly,\n",
    "        df.sort_values('AnomalyScore',ascending = True).head(10)]\n",
    ")\n",
    "df_anomaly.head()\n",
    "\n",
    "# etrieves the index values of the top 10 rows with the highest anomaly scores in the DataFrame df.\n",
    "\n",
    "list(df.sort_values('AnomalyScore',ascending = False).head(10).index)\n",
    "df.head()\n",
    "\n",
    "# Filters and displays the rows in the DataFrame df where the 'Price' column contains NaN (missing) values.\n",
    "df[df['Price'].isna()].head()\n",
    "\n",
    "# Reinitializes the Isolation Forest model with 100 estimators (decision trees).\n",
    "isolation_forest = IsolationForest(n_estimators=100)\n",
    "isolation_forest.fit(df['Price'].values.reshape(-1, 1))"
   ]
  },
  {
   "cell_type": "code",
   "execution_count": 12,
   "metadata": {},
   "outputs": [
    {
     "data": {
      "image/png": "[encoded data removed]",
      "text/plain": [
       "<Figure size 720x288 with 1 Axes>"
      ]
     },
     "metadata": {
      "needs_background": "light"
     },
     "output_type": "display_data"
    }
   ],
   "source": [
    "\n",
    "\n",
    "# Creates an array xx that represents a range of values for the 'Price' column.\n",
    "# And reshape(-1,1) the array to be a column vector.\n",
    "\n",
    "xx = np.linspace(df['Price'].min(), df['Price'].max(), len(df)).reshape(-1,1)\n",
    "\n",
    "# Calculate the anomaly scores for each value in the xx range using the decision function of the trained Isolation Forest model (isolation_forest). These anomaly scores quantify how anomalous each data point is.\n",
    "anomaly_score = isolation_forest.decision_function(xx)\n",
    "\n",
    "# Predicts whether each data point in the xx range is an outlier (anomaly) or not using the Isolation Forest model. The predict method returns -1 for outliers and 1 for inliers (non-outliers).\n",
    "outlier = isolation_forest.predict(xx)\n",
    "\n",
    "\n",
    "# Initializes a new figure for the plot with a specified figsize of 10 inches in width and 4 inches in height. It sets the size of the plot canvas.\n",
    "plt.figure(figsize=(10,4))\n",
    "\n",
    "# Fills the region between the minimum and maximum anomaly scores with a red color (color='r') for data points that have been predicted as outliers.\n",
    "plt.plot(xx, anomaly_score, label='anomaly score')\n",
    "plt.fill_between(xx.T[0], np.min(anomaly_score), np.max(anomaly_score),\n",
    "                 where=outlier==-1, color='r',\n",
    "                 alpha=.4, label='outlier region')\n",
    "\n",
    "# Adds a legend to the plot to label the two components: \"anomaly score\" and \"outlier region.\"\n",
    "plt.legend()\n",
    "\n",
    "# Sets the label for the y-axis as \"anomaly score.\"\n",
    "plt.ylabel('anomaly score')\n",
    "\n",
    "# Sets the label for the x-axis as \"Price.\"\n",
    "plt.xlabel('Price')\n",
    "\n",
    "plt.show();"
   ]
  },
  {
   "cell_type": "markdown",
   "metadata": {},
   "source": [
    "As observed, points with score below threshold of 0.02 are shaded as outliers."
   ]
  }
 ],
 "metadata": {
  "kernelspec": {
   "display_name": "Python 3.10.5 64-bit",
   "language": "python",
   "name": "python3"
  },
  "language_info": {
   "codemirror_mode": {
    "name": "ipython",
    "version": 3
   },
   "file_extension": ".py",
   "mimetype": "text/x-python",
   "name": "python",
   "nbconvert_exporter": "python",
   "pygments_lexer": "ipython3",
   "version": "3.9.12"
  },
  "orig_nbformat": 4,
  "vscode": {
   "interpreter": {
    "hash": "071e8ef9723f9803990031dda72d701cf8c30b1fb83d823da4873342c523a136"
   }
  }
 },
 "nbformat": 4,
 "nbformat_minor": 2
}
